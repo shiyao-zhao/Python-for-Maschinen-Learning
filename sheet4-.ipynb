{
 "cells": [
  {
   "cell_type": "markdown",
   "metadata": {},
   "source": [
    "## Before submitting\n",
    "1. Before you turn this problem in, make sure everything runs as expected. First, **restart the kernel** (in the menubar, select Kernel$\\rightarrow$Restart) and then **run all cells** (in the menubar, select Cell$\\rightarrow$Run All).\n",
    "\n",
    "2. Make sure that no assertions fail or exceptions occur, otherwise points will be subtracted.\n",
    "\n",
    "3. After you submit the notebook more tests will be run on your code. The fact that no assertions fail on your computer localy does not guarantee that you completed the exercise correctly.\n",
    "\n",
    "4. After a function has been tested you can assume that for the following cells a correct implementation is used.\n",
    "\n",
    "5. Please submit only the edited original `*.ipynb` file.\n",
    "\n",
    "6. Make sure you fill in any place that says `YOUR CODE HERE` or \"YOUR ANSWER HERE\". Edit only between `YOUR CODE HERE` and `END YOUR CODE`.\n",
    "\n",
    "7. Make sure to use Python 3, not Python 2.\n",
    "\n",
    "8. Only work on the exercises using Jupyter Notebook. While tools such as PyCharm and VSCode support the `ipynb` format, they overwrite crucial metadata, which break the autograder system.\n",
    "\n",
    "9. Do **NOT** under any circustances delete any cells that you didn't insert yourselves. If you accidentally delete a cell either undo the deletion using `Edit/Undo Delete Cells` or redownload the notebook file from ISIS and paste your existing code in there. \n",
    "\n",
    "\n",
    "Fill your group name and members below:"
   ]
  },
  {
   "cell_type": "code",
   "execution_count": 1,
   "metadata": {},
   "outputs": [],
   "source": [
    "GROUPNAME = \"Group 56\"\n",
    "COLLABORATORS = \"Shiyao Zhao, Ke Wang, Jiajing Jiang\""
   ]
  },
  {
   "cell_type": "markdown",
   "metadata": {
    "deletable": false,
    "editable": false,
    "nbgrader": {
     "cell_type": "markdown",
     "checksum": "492198d352643668ab5911032e3e2032",
     "grade": false,
     "grade_id": "cell-8c6240920f08e7c8",
     "locked": true,
     "schema_version": 3,
     "solution": false
    }
   },
   "source": [
    "# Sheet 3: Rounding, Overflow, Linear Algebra\n",
    "\n",
    "In this exercise sheet, we look at various sources of numerical overflow when executing Python and numpy code for large input values, and how to efficiently handle them, for example, by using numpy special functions."
   ]
  },
  {
   "cell_type": "code",
   "execution_count": 1,
   "metadata": {},
   "outputs": [],
   "source": [
    "import utils\n",
    "import numpy as np\n",
    "\n",
    "import unittest; t = unittest.TestCase()"
   ]
  },
  {
   "cell_type": "code",
   "execution_count": 3,
   "metadata": {},
   "outputs": [],
   "source": [
    "# This cell is for grading. Do not delete it"
   ]
  },
  {
   "cell_type": "markdown",
   "metadata": {
    "deletable": false,
    "editable": false,
    "nbgrader": {
     "cell_type": "markdown",
     "checksum": "07c905e773a10714e50475054d124f17",
     "grade": false,
     "grade_id": "cell-7b83d2a6a8025963",
     "locked": true,
     "schema_version": 3,
     "solution": false,
     "task": false
    }
   },
   "source": [
    "## Building a robust \"softplus\" nonlinear function (30 P)\n",
    "\n",
    "The softplus function is defined as:\n",
    "\n",
    "$$\n",
    "\\mathrm{softplus}(x) = \\log(1+\\exp(x)).\n",
    "$$\n",
    "\n",
    "It intervenes as elementary computation in certain machine learning models such as neural networks. Plotting it gives the following curve\n",
    "\n",
    "![plot generated using fooplot.com](softplus.png)\n",
    "\n",
    "where the function tends to zero for very negative input values and tends to the identity for very positive input values."
   ]
  },
  {
   "cell_type": "code",
   "execution_count": 4,
   "metadata": {},
   "outputs": [],
   "source": [
    "def softplus(z): \n",
    "    return np.log( 1 + np.exp(z))"
   ]
  },
  {
   "cell_type": "markdown",
   "metadata": {},
   "source": [
    "We consider an input vector from the module `utils` containing varying values between 1 and 10000. We would like to apply the `softplus` function to all of its element in an element-wise manner."
   ]
  },
  {
   "cell_type": "code",
   "execution_count": 5,
   "metadata": {},
   "outputs": [
    {
     "name": "stdout",
     "output_type": "stream",
     "text": [
      "[-10000, -1000, -100, -10, -1, 0, 1, 10, 100, 1000, 10000]\n"
     ]
    }
   ],
   "source": [
    "X = utils.softplus_inputs\n",
    "print(X)"
   ]
  },
  {
   "cell_type": "markdown",
   "metadata": {},
   "source": [
    "We choose these large values in order to test whether the behavior of the function is correct in all regimes of the function, in particular, for very small or very large values. The code below applies the `softplus` function directly to the vector of inputs and then prints for all cases the input and the corresponding function output:"
   ]
  },
  {
   "cell_type": "code",
   "execution_count": 6,
   "metadata": {},
   "outputs": [
    {
     "name": "stdout",
     "output_type": "stream",
     "text": [
      "softplus(-10000.0000) =      0.0000\n",
      "softplus( -1000.0000) =      0.0000\n",
      "softplus(  -100.0000) =      0.0000\n",
      "softplus(   -10.0000) =      0.0000\n",
      "softplus(    -1.0000) =      0.3133\n",
      "softplus(     0.0000) =      0.6931\n",
      "softplus(     1.0000) =      1.3133\n",
      "softplus(    10.0000) =     10.0000\n",
      "softplus(   100.0000) =    100.0000\n",
      "softplus(  1000.0000) =         inf\n",
      "softplus( 10000.0000) =         inf\n"
     ]
    }
   ],
   "source": [
    "Y = softplus(X)\n",
    "for x,y in zip(X,Y):\n",
    "    print('softplus(%11.4f) = %11.4f'%(x,y))"
   ]
  },
  {
   "cell_type": "markdown",
   "metadata": {},
   "source": [
    "For large input values, the softplus function returns `inf` whereas analysis of that function tells us that it should compute the **identity**. Let's now try to apply the softplus function one element at a time, to see whether the problem comes from numpy arrays:"
   ]
  },
  {
   "cell_type": "code",
   "execution_count": 7,
   "metadata": {},
   "outputs": [
    {
     "name": "stdout",
     "output_type": "stream",
     "text": [
      "softplus(-10000.0000) =      0.0000\n",
      "softplus( -1000.0000) =      0.0000\n",
      "softplus(  -100.0000) =      0.0000\n",
      "softplus(   -10.0000) =      0.0000\n",
      "softplus(    -1.0000) =      0.3133\n",
      "softplus(     0.0000) =      0.6931\n",
      "softplus(     1.0000) =      1.3133\n",
      "softplus(    10.0000) =     10.0000\n",
      "softplus(   100.0000) =    100.0000\n",
      "softplus(  1000.0000) =         inf\n",
      "softplus( 10000.0000) =         inf\n"
     ]
    }
   ],
   "source": [
    "for x in X:\n",
    "    y = softplus(x)\n",
    "    print('softplus(%11.4f) = %11.4f'%(x,y))"
   ]
  },
  {
   "cell_type": "markdown",
   "metadata": {},
   "source": [
    "Unfortunately, the result is the same. We observe that the function always stops working when its output approaches 1000, even though the input was given in high precision `float64`."
   ]
  },
  {
   "cell_type": "markdown",
   "metadata": {},
   "source": [
    "* Create an alternative function for `softplus_robust` that applies to input scalars (int, float, etc.) and that correctly applies to values that can be much larger than 1000 (e.g. billions or more). Your function can be written in Python directly and does not need numpy parallelization."
   ]
  },
  {
   "cell_type": "code",
   "execution_count": 8,
   "metadata": {},
   "outputs": [],
   "source": [
    "def softplus_robust(x):\n",
    "    '''\n",
    "    Numerically stable implementation of softplus function. Will never overflow to \n",
    "    infinity if input is finite\n",
    "    \n",
    "    Args:\n",
    "        x (number): The number of which we want to calculate the softplus value\n",
    "    Returns:\n",
    "        number: softplus(x)\n",
    "    '''\n",
    "    # YOUR CODE HERE\n",
    "    #c = x-(x%6)\n",
    "    return np.log(1+1/np.exp(abs(x))) + np.maximum(x,0)\n",
    "\n",
    "    raise NotImplementedError(\"Relplace this line with your code\")\n",
    "    # YOUR CODE HERE\n",
    "    "
   ]
  },
  {
   "cell_type": "code",
   "execution_count": 9,
   "metadata": {},
   "outputs": [
    {
     "name": "stdout",
     "output_type": "stream",
     "text": [
      "softplus(-10000.0000) =      0.0000\n",
      "softplus( -1000.0000) =      0.0000\n",
      "softplus(  -100.0000) =      0.0000\n",
      "softplus(   -10.0000) =      0.0000\n",
      "softplus(    -1.0000) =      0.3133\n",
      "softplus(     0.0000) =      0.6931\n",
      "softplus(     1.0000) =      1.3133\n",
      "softplus(    10.0000) =     10.0000\n",
      "softplus(   100.0000) =    100.0000\n",
      "softplus(  1000.0000) =   1000.0000\n",
      "softplus( 10000.0000) =  10000.0000\n"
     ]
    }
   ],
   "source": [
    "# Verify your function\n",
    "y_scalar = [softplus_robust(x) for x in X]\n",
    "\n",
    "for x, y in zip(X, y_scalar):\n",
    "    print('softplus(%11.4f) = %11.4f'%(x,y))\n"
   ]
  },
  {
   "cell_type": "code",
   "execution_count": 10,
   "metadata": {},
   "outputs": [],
   "source": [
    "# This cell is for grading. Do not delete it"
   ]
  },
  {
   "cell_type": "markdown",
   "metadata": {},
   "source": [
    "As we have seen in the previous exercise sheet, the problem of functions that apply to scalars only is that they are less efficient than functions that apply to vectors directly. Therefore, we would like to handle the rounding issue directly at the vector level.\n",
    "\n",
    "* Create a new softplus function that applies to vectors and that has the desired behavior for large input values. Your function should be fast for large input vectors (i.e. it is not appropriate to use an inner Python loop inside the function).\n",
    "\n",
    "**Note**: There are ways to vectorize a function directly (see [`np.vectorize`](https://docs.scipy.org/doc/numpy-1.15.0/reference/generated/numpy.vectorize.html)/[`np.fromiter`](https://docs.scipy.org/doc/numpy/reference/generated/numpy.fromiter.html)/[`np.apply_along_axis`](https://docs.scipy.org/doc/numpy/reference/generated/numpy.apply_along_axis.html)) but those are based on Python loops which provide no speed advantage and should therefore be avoided. It should go without saying, that `for/while` loops and functions like `map` are also not to be used. The cell below should demonstrate how much faster a correct implementation is."
   ]
  },
  {
   "cell_type": "code",
   "execution_count": 11,
   "metadata": {},
   "outputs": [],
   "source": [
    "def softplus_robust_vec(X):\n",
    "    '''\n",
    "    Vectorized version of the numericaly robust softplus function\n",
    "    \n",
    "    Args:\n",
    "        X (vector-like): A vector (ndim=1) of values on which we want to apply the softplus function.\n",
    "            It is not always a np.ndarray\n",
    "        \n",
    "    Returns:\n",
    "        np.ndarray: A vector (ndim=1) where the ret[i] == softplus_robust(X[i])\n",
    "    '''\n",
    "    # these are wrong!!!\n",
    "    # return np.array([softplus_robust(x) for x in X])\n",
    "    # return np.array(list(map(softplus_robust, X)))\n",
    "    # return np.vectorize(softplus_robust)(X)\n",
    "    # etc...\n",
    "    # YOUR CODE HERE\n",
    "    X = np.array(X)\n",
    "    return softplus_robust(X)\n",
    "    raise NotImplementedError(\"Relplace this line with your code\")\n",
    "    # YOUR CODE HERE\n",
    "    "
   ]
  },
  {
   "cell_type": "code",
   "execution_count": 12,
   "metadata": {},
   "outputs": [
    {
     "name": "stdout",
     "output_type": "stream",
     "text": [
      "[0.00000000e+00 0.00000000e+00 0.00000000e+00 4.53988992e-05\n",
      " 3.13261688e-01 6.93147181e-01 1.31326169e+00 1.00000454e+01\n",
      " 1.00000000e+02 1.00000000e+03 1.00000000e+04]\n",
      "softplus(-10000.0000) =      0.0000\n",
      "softplus( -1000.0000) =      0.0000\n",
      "softplus(  -100.0000) =      0.0000\n",
      "softplus(   -10.0000) =      0.0000\n",
      "softplus(    -1.0000) =      0.3133\n",
      "softplus(     0.0000) =      0.6931\n",
      "softplus(     1.0000) =      1.3133\n",
      "softplus(    10.0000) =     10.0000\n",
      "softplus(   100.0000) =    100.0000\n",
      "softplus(  1000.0000) =   1000.0000\n",
      "softplus( 10000.0000) =  10000.0000\n",
      "Vectorized function needs...\n",
      "95.3 µs ± 2.1 µs per loop (mean ± std. dev. of 7 runs, 10000 loops each)\n",
      "Python loops need...\n",
      "23.1 ms ± 228 µs per loop (mean ± std. dev. of 7 runs, 10 loops each)\n"
     ]
    }
   ],
   "source": [
    "# Verify your function\n",
    "Y = softplus_robust_vec(X)\n",
    "print(Y)\n",
    "t.assertIsInstance(Y, np.ndarray)\n",
    "pairs = tuple(zip(X,Y))\n",
    "for tup in pairs:\n",
    "    print('softplus(%11.4f) = %11.4f'%tup)\n",
    "    \n",
    "'''\n",
    "This is just a demonstration.\n",
    "As long as your vectorized function is consistently faster than the loop implementation,\n",
    "your solution should be acceptable. \n",
    "There are no concrete numbers about the speed-up.\n",
    "'''\n",
    "RAND_INPUT = np.random.rand(5000)\n",
    "print(\"Vectorized function needs...\")\n",
    "%timeit softplus_robust_vec(RAND_INPUT)\n",
    "\n",
    "print(\"Python loops need...\")\n",
    "def vectorize_with_loop(X):\n",
    "    # This is a wrong implementation\n",
    "    return np.array([softplus_robust(x) for x in X])\n",
    "%timeit vectorize_with_loop(RAND_INPUT)\n"
   ]
  },
  {
   "cell_type": "markdown",
   "metadata": {},
   "source": [
    "## Computing a partition function (40 P)\n",
    "\n",
    "We consider a discrete probability distribution of type\n",
    "$$\n",
    "p(\\boldsymbol{x};\\boldsymbol{w}) = \\frac{1}{Z(\\boldsymbol{w})} \\exp(\\boldsymbol{x}^\\top \\boldsymbol{w})\n",
    "$$\n",
    "where $\\boldsymbol{x} \\in \\{-1,1\\}^{10}$ is an observation, and $\\boldsymbol{w} \\in \\mathbb{R}^{10}$ is a vector of parameters. The term $Z(\\boldsymbol{w})$ is called the partition function and is chosen such that the probability distribution sums to 1. That is, the equation:\n",
    "$$\n",
    "\\sum_{\\boldsymbol{x} \\in \\{-1,1\\}^{10}} p(\\boldsymbol{x};\\boldsymbol{w}) = 1\n",
    "$$\n",
    "must be satisfied. Below is a simple method that computes the log of the partition function $Z(\\boldsymbol{w})$ for various choices of parameter vectors. The considered parameters (`w_small`, `w_medium`, and `w_large`) are increasingly large (and thus problematic), and can be found in the file `utils.py`."
   ]
  },
  {
   "cell_type": "code",
   "execution_count": 13,
   "metadata": {},
   "outputs": [
    {
     "name": "stdout",
     "output_type": "stream",
     "text": [
      "    17.2457\n",
      "    89.5932\n",
      "        inf\n"
     ]
    }
   ],
   "source": [
    "import itertools\n",
    "\n",
    "def iter_all_observations():\n",
    "    '''\n",
    "    Iterates over all x in {-1,1}^10 (vectors with 10 elements where each element \n",
    "    containts either -1 or 1)\n",
    "    \n",
    "    Returns:\n",
    "        iterator : An iterator of all valid obvervations\n",
    "    '''\n",
    "    return itertools.product([-1, 1], repeat=10)\n",
    "\n",
    "def getlogZ(w):\n",
    "    '''\n",
    "    Calculates the log of the partition function Z\n",
    "    \n",
    "    Args:\n",
    "        w (vector-like): A ten element vector (shape=(10,)) of parameters\n",
    "    Returns:\n",
    "        number: The log of the partition function Z\n",
    "    '''\n",
    "    Z = sum(np.exp(np.dot(x,w)) for x in iter_all_observations())\n",
    "    #print(Z)\n",
    "    return np.log(Z)\n",
    "\n",
    "print('%11.4f'%getlogZ(utils.w_small))\n",
    "print('%11.4f'%getlogZ(utils.w_medium))\n",
    "print('%11.4f'%getlogZ(utils.w_big))\n"
   ]
  },
  {
   "cell_type": "markdown",
   "metadata": {},
   "source": [
    "We can observe from these results, that for parameter vectors with large values (e.g. `utils.w_big`), the exponential function overflows, and thus, we do not obtain a correct value for the logarithm of `Z`.\n",
    "\n",
    "* Implement an improved function  `getlogZ_robust` that avoids the overflow problem, and evaluates the partition function for the same parameters."
   ]
  },
  {
   "cell_type": "code",
   "execution_count": 14,
   "metadata": {},
   "outputs": [],
   "source": [
    "def getlogZ_robust(w):\n",
    "    # YOUR CODE HERE\n",
    "    c = max(np.dot(x,w) for x in iter_all_observations())\n",
    "    Z = sum(np.exp(np.dot(x,w)-c) for x in iter_all_observations())\n",
    "    return np.log(Z)+c\n",
    "    raise NotImplementedError(\"Relplace this line with your code\")\n",
    "    # YOUR CODE HERE\n",
    "    "
   ]
  },
  {
   "cell_type": "code",
   "execution_count": 15,
   "metadata": {},
   "outputs": [
    {
     "name": "stdout",
     "output_type": "stream",
     "text": [
      "[-1.52820754859, -0.000234000845064, -0.00527938881237, 5797.19232191, -6.64682108484, 18924.7087966, -69.308158911, 1.1158892974, 1.04454511882, 116.795573742]\n",
      "    17.2457\n",
      "    89.5932\n",
      " 24919.9913\n"
     ]
    }
   ],
   "source": [
    "# Verify your function\n",
    "#print(utils.w_medium)\n",
    "print(utils.w_big)\n",
    "print('%11.4f'%getlogZ_robust(utils.w_small))\n",
    "print('%11.4f'%getlogZ_robust(utils.w_medium))\n",
    "print('%11.4f'%getlogZ_robust(utils.w_big))\n",
    "\n",
    "R = getlogZ_robust(utils.w_big)\n",
    "t.assertTrue(np.isfinite(R))\n",
    "t.assertTrue(24900 < R < 25000)"
   ]
  },
  {
   "cell_type": "code",
   "execution_count": 16,
   "metadata": {},
   "outputs": [],
   "source": [
    "# This cell is for grading. Do not delete it"
   ]
  },
  {
   "cell_type": "markdown",
   "metadata": {},
   "source": [
    "* For the model with parameter `utils.w_big`, evaluate the log-probability of the binary vectors contained in the list `itertools.product([-1, 1], repeat=10)`, and return a `np.ndarray` of the indices (starting from 0) of those that have probability greater or equal to 0.001."
   ]
  },
  {
   "cell_type": "code",
   "execution_count": 17,
   "metadata": {},
   "outputs": [],
   "source": [
    "def important_indexes(tol = 0.001):\n",
    "    '''\n",
    "    Calculates the indexes of important binary vectors for the w_big parameter vector.\n",
    "    \n",
    "    Args:\n",
    "        tol (float): The thesh\n",
    "    '''\n",
    "    Z = getlogZ_robust(utils.w_big)\n",
    "\n",
    "    # YOUR CODE HERE\n",
    "    p = list()\n",
    "    for x in iter_all_observations():\n",
    "        p.append(np.exp(np.dot(x,utils.w_big)-Z))\n",
    "    \n",
    "    return np.array([index for index,value in enumerate(p) if value>=tol])\n",
    "    raise NotImplementedError(\"Relplace this line with your code\")\n",
    "    # YOUR CODE HERE\n",
    "    "
   ]
  },
  {
   "cell_type": "code",
   "execution_count": 18,
   "metadata": {},
   "outputs": [
    {
     "name": "stdout",
     "output_type": "stream",
     "text": [
      "[ 81  83  85  87 209 211 213 215 337 339 341 343 465 467 469 471 597 599\n",
      " 725 727 853 855 981 983]\n"
     ]
    }
   ],
   "source": [
    "# Verify your function\n",
    "print(important_indexes())\n",
    "t.assertEqual(len(important_indexes()), 24)"
   ]
  },
  {
   "cell_type": "markdown",
   "metadata": {},
   "source": [
    "## Probability of generating data from a Gaussian model (30 P)\n",
    "\n",
    "Consider a multivariate Gaussian distribution of mean vector `m` and covariance `S`. The probability associated to a vector `x` is given by:\n",
    "\n",
    "$$\n",
    "p(\\boldsymbol{x};(\\boldsymbol{m},S)) = \\frac{1}{\\sqrt{(2\\pi)^d \\mathrm{det}(S)}} \\exp \\Big( - \\frac12 (\\boldsymbol{x}-\\boldsymbol{m})^\\top S^{-1} (\\boldsymbol{x}-\\boldsymbol{m})\\Big)\n",
    "$$\n",
    "\n",
    "We consider the calculation of the probability of observing a certain dataset \n",
    "\n",
    "$$\n",
    "\\mathcal{D} = (\\boldsymbol{x}^{(1)},\\dots,\\boldsymbol{x}^{(N)})\n",
    "$$\n",
    "\n",
    "assuming the data is generated according to a Gaussian distribution of fixed parameters $\\boldsymbol{m}$ and $S$. Such probability density is given by the formula:\n",
    "\n",
    "$$\n",
    "\\log P(\\mathcal{D};(\\boldsymbol{m},S)) = \\log \\prod_{i=1}^N p(\\boldsymbol{x}^{(i)};(\\boldsymbol{m},S))\n",
    "$$\n",
    "\n",
    "The function below implements such function:"
   ]
  },
  {
   "cell_type": "code",
   "execution_count": 19,
   "metadata": {},
   "outputs": [],
   "source": [
    "def logp(X,m,S):\n",
    "    # Find the number of dimensions from the data vector\n",
    "    d = X.shape[1]\n",
    "    \n",
    "    # Invert the covariance matrix\n",
    "    Sinv = np.linalg.inv(S)\n",
    "    \n",
    "    # Compute the quadratic terms for all data points\n",
    "    Q = -0.5*(np.dot(X-m,Sinv)*(X-m)).sum(axis=1)\n",
    "    \n",
    "    # Raise them quadratic terms to the exponential\n",
    "    Q = np.exp(Q)\n",
    "    \n",
    "    # Divide by the terms in the denominator\n",
    "    P = Q / np.sqrt((2*np.pi)**d * np.linalg.det(S))\n",
    "    \n",
    "    # Take the product of the probability of each data points\n",
    "    Pprod = np.prod(P)\n",
    "    \n",
    "    # Return the log-probability\n",
    "    return np.log(Pprod)\n"
   ]
  },
  {
   "cell_type": "markdown",
   "metadata": {},
   "source": [
    "Evaluation of this function for various datasets and parameters provided in the file `utils.py` gives the following probabilities:"
   ]
  },
  {
   "cell_type": "code",
   "execution_count": 20,
   "metadata": {},
   "outputs": [
    {
     "name": "stdout",
     "output_type": "stream",
     "text": [
      "   -13.0068\n",
      "       -inf\n",
      "       -inf\n"
     ]
    },
    {
     "name": "stderr",
     "output_type": "stream",
     "text": [
      "/Users/shiyaozhao/anaconda3/lib/python3.7/site-packages/ipykernel_launcher.py:21: RuntimeWarning: divide by zero encountered in log\n"
     ]
    }
   ],
   "source": [
    "print('%11.4f'%logp(utils.X1,utils.m1,utils.S1))\n",
    "print('%11.4f'%logp(utils.X2,utils.m2,utils.S2))\n",
    "print('%11.4f'%logp(utils.X3,utils.m3,utils.S3))"
   ]
  },
  {
   "cell_type": "markdown",
   "metadata": {},
   "source": [
    "This function is numerically unstable for multiple reasons. The product of many probabilities, the inversion of a large covariance matrix, and the computation of its determinant, are all potential causes for overflow. Thus, we would like to find a numerically robust way of performing each of these.\n",
    "\n",
    "* Implement a numerically stable version of the function `logp`\n",
    "* Evaluate it on the same datasets and parameters as the function `logp`"
   ]
  },
  {
   "cell_type": "code",
   "execution_count": 23,
   "metadata": {},
   "outputs": [],
   "source": [
    "def logp_robust(X,m,S):\n",
    "    '''\n",
    "    Numerically robust implemenation of `logp` function\n",
    "    \n",
    "    Returns:\n",
    "        (float): The logp probability density\n",
    "    '''\n",
    "    # YOUR CODE HERE\n",
    "    d = m.shape[0]\n",
    "\n",
    "    # Invert the covariance matrix\n",
    "    Sinv = np.linalg.inv(S)\n",
    "    \n",
    "    # Compute the quadratic terms for all data points\n",
    "    Q = -0.5*(np.dot(X-m,Sinv)*(X-m)).sum(axis=1)\n",
    "    \n",
    "    # compute the denominator\n",
    "    denominator =  np.sqrt((2*np.pi)**d * np.linalg.det(S))\n",
    "    \n",
    "    # compute the log-probability\n",
    "    log_P = Q-np.log(denominator)\n",
    "    \n",
    "    # Return the sum of log-probability\n",
    "    return np.sum(log_P)\n",
    "    \n",
    "    raise NotImplementedError(\"Relplace this line with your code\")\n",
    "    # YOUR CODE HERE\n",
    "    "
   ]
  },
  {
   "cell_type": "code",
   "execution_count": 24,
   "metadata": {},
   "outputs": [
    {
     "name": "stdout",
     "output_type": "stream",
     "text": [
      "   -13.0068\n",
      " -1947.9710\n",
      "-218646.1739\n",
      "\n",
      "all logp values below zero :)\n"
     ]
    }
   ],
   "source": [
    "# Verify your function\n",
    "print('%11.4f'%logp_robust(utils.X1,utils.m1,utils.S1))\n",
    "print('%11.4f'%logp_robust(utils.X2,utils.m2,utils.S2))\n",
    "print('%11.4f'%logp_robust(utils.X3,utils.m3,utils.S3))\n",
    "\n",
    "logp1 = logp_robust(utils.X1,utils.m1,utils.S1)\n",
    "logp2 = logp_robust(utils.X2,utils.m2,utils.S2)\n",
    "logp3 = logp_robust(utils.X3,utils.m3,utils.S3)\n",
    "\n",
    "outputs = np.array((logp1, logp2, logp3))\n",
    "\n",
    "t.assertTrue(np.isfinite(outputs).all())\n",
    "t.assertTrue(np.all(outputs  < 0))\n",
    "print('\\nall logp values below zero :)')"
   ]
  },
  {
   "cell_type": "code",
   "execution_count": null,
   "metadata": {},
   "outputs": [],
   "source": []
  }
 ],
 "metadata": {
  "kernelspec": {
   "display_name": "Python 3",
   "language": "python",
   "name": "python3"
  },
  "language_info": {
   "codemirror_mode": {
    "name": "ipython",
    "version": 3
   },
   "file_extension": ".py",
   "mimetype": "text/x-python",
   "name": "python",
   "nbconvert_exporter": "python",
   "pygments_lexer": "ipython3",
   "version": "3.7.3"
  }
 },
 "nbformat": 4,
 "nbformat_minor": 1
}
